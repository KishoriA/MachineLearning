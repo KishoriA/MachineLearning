{
 "cells": [
  {
   "cell_type": "code",
   "execution_count": 6,
   "metadata": {
    "scrolled": true
   },
   "outputs": [
    {
     "name": "stdout",
     "output_type": "stream",
     "text": [
      "['Hello there Mrs. Smith.', 'How are you doing today?', 'The weather is great and python is awesome.', 'The sky is pinkish-blue.', 'You should not eat cardboard.']\n",
      "['Hello', 'there', 'Mrs.', 'Smith', '.', 'How', 'are', 'you', 'doing', 'today', '?', 'The', 'weather', 'is', 'great', 'and', 'python', 'is', 'awesome', '.', 'The', 'sky', 'is', 'pinkish-blue', '.', 'You', 'should', 'not', 'eat', 'cardboard', '.']\n",
      "Hello\n",
      "there\n",
      "Mrs.\n",
      "Smith\n",
      ".\n",
      "How\n",
      "are\n",
      "you\n",
      "doing\n",
      "today\n",
      "?\n",
      "The\n",
      "weather\n",
      "is\n",
      "great\n",
      "and\n",
      "python\n",
      "is\n",
      "awesome\n",
      ".\n",
      "The\n",
      "sky\n",
      "is\n",
      "pinkish-blue\n",
      ".\n",
      "You\n",
      "should\n",
      "not\n",
      "eat\n",
      "cardboard\n",
      ".\n"
     ]
    }
   ],
   "source": [
    "import nltk\n",
    "from nltk.tokenize import sent_tokenize, word_tokenize\n",
    "example_text = \"Hello there Mrs. Smith. How are you doing today? The weather is great and python is awesome. The sky is pinkish-blue. You should not eat cardboard.\"\n",
    "\n",
    "print(sent_tokenize(example_text))\n",
    "print(word_tokenize(example_text))\n",
    "\n",
    "for i in word_tokenize(example_text):\n",
    "    print(i)"
   ]
  },
  {
   "cell_type": "code",
   "execution_count": 8,
   "metadata": {},
   "outputs": [
    {
     "name": "stdout",
     "output_type": "stream",
     "text": [
      "{'those', 'were', 'because', 'didn', 'only', 'yours', 'me', 'before', 'has', 'why', 'under', 'her', 'from', 'd', 'yourself', 'it', 'to', 'so', 'isn', 'the', 'against', 'hers', 'y', 'for', 'herself', 'that', 'mustn', 'she', 'having', 'but', 'am', 'most', 'here', 'all', 'out', 'couldn', 'about', 'did', 'by', 'is', 'until', 'his', 've', 'or', 'i', 'few', 'other', 'them', 't', 'are', 'their', 'below', 'hasn', 'a', 'where', 'shouldn', 'as', 'what', 'which', 'ours', 'myself', 'no', 'ain', 'during', 'have', 'aren', 'mightn', 'shan', 'same', 'doesn', 'should', 'weren', 'himself', 'who', 'if', 'further', 'theirs', 'once', 'both', 'hadn', 'off', 'doing', 'its', 'haven', 'they', 'when', 'yourselves', 'each', 'nor', 'while', 'themselves', 'of', 'these', 'll', 'will', 'does', 'too', 'our', 'own', 'after', 'now', 'being', 'this', 'over', 'at', 'won', 'an', 'he', 'was', 'into', 'ma', 'ourselves', 'than', 'wasn', 'such', 's', 'do', 'with', 'again', 'be', 'very', 'your', 'down', 'up', 'on', 'whom', 'between', 'been', 'm', 'itself', 'some', 'and', 'my', 'more', 'there', 'o', 'through', 'how', 'needn', 'can', 'then', 'you', 'any', 'him', 'we', 'don', 're', 'just', 'not', 'had', 'wouldn', 'above', 'in'}\n"
     ]
    }
   ],
   "source": [
    "# Stop words - filler words like a, we, and. They add no meaning to text as far as data analysis is concerned.\n",
    "from nltk.corpus import stopwords\n",
    "\n",
    "stop_words = set(stopwords.words('english'))\n",
    "print(stop_words)"
   ]
  },
  {
   "cell_type": "code",
   "execution_count": 13,
   "metadata": {},
   "outputs": [
    {
     "name": "stdout",
     "output_type": "stream",
     "text": [
      "['Hello', 'Mrs.', 'Smith', '.', 'How', 'today', '?', 'The', 'weather', 'great', 'python', 'awesome', '.', 'The', 'sky', 'pinkish-blue', '.', 'You', 'eat', 'cardboard', '.']\n",
      "['there', 'are', 'you', 'doing', 'is', 'and', 'is', 'is', 'should', 'not']\n"
     ]
    }
   ],
   "source": [
    "filtered_sentence = []\n",
    "stopwords_filtered = []\n",
    "\n",
    "for i in word_tokenize(example_text):\n",
    "    if i not in stop_words:\n",
    "        filtered_sentence.append(i)\n",
    "    else:\n",
    "        stopwords_filtered.append(i)\n",
    "        \n",
    "print(filtered_sentence)\n",
    "print(stopwords_filtered)"
   ]
  },
  {
   "cell_type": "code",
   "execution_count": 15,
   "metadata": {},
   "outputs": [
    {
     "name": "stdout",
     "output_type": "stream",
     "text": [
      "['Hello', 'Mrs.', 'Smith', '.', 'How', 'today', '?', 'The', 'weather', 'great', 'python', 'awesome', '.', 'The', 'sky', 'pinkish-blue', '.', 'You', 'eat', 'cardboard', '.']\n"
     ]
    }
   ],
   "source": [
    "shorthand = [w for w in word_tokenize(example_text) if w not in stop_words]\n",
    "print(shorthand)"
   ]
  },
  {
   "cell_type": "code",
   "execution_count": 24,
   "metadata": {},
   "outputs": [
    {
     "name": "stdout",
     "output_type": "stream",
     "text": [
      "code\n",
      "code\n",
      "code\n",
      "coder\n",
      "sentence stemming\n",
      "the\n",
      "coder\n",
      "wa\n",
      "code\n",
      "the\n",
      "code\n",
      "which\n",
      "wa\n",
      "code\n",
      "by\n",
      "anoth\n",
      "coder\n",
      "who\n",
      "ha\n",
      "been\n",
      "code\n",
      "sinc\n",
      "hi\n",
      "childhood\n",
      ".\n"
     ]
    }
   ],
   "source": [
    "# Stemming - the word which is the root of the given word\n",
    "# Why? - We will always find the different variation of the word but there meaning remains the same.\n",
    "# PorterStemmer Algorithm - 1979\n",
    "\n",
    "from nltk.stem import PorterStemmer\n",
    "ps = PorterStemmer()\n",
    "\n",
    "example = ['code', 'coding', 'coded', 'coder']\n",
    "\n",
    "for w in example:\n",
    "    print(ps.stem(w))  \n",
    "    \n",
    "example_2 = \"The coder was coding the code which was coded by another coder who has been coding since his childhood.\"\n",
    "example_2_words = word_tokenize(example_2)\n",
    "\n",
    "print(\"sentence stemming\")\n",
    "for w in example_2_words:\n",
    "    print(ps.stem(w)) "
   ]
  }
 ],
 "metadata": {
  "kernelspec": {
   "display_name": "Python 3",
   "language": "python",
   "name": "python3"
  },
  "language_info": {
   "codemirror_mode": {
    "name": "ipython",
    "version": 3
   },
   "file_extension": ".py",
   "mimetype": "text/x-python",
   "name": "python",
   "nbconvert_exporter": "python",
   "pygments_lexer": "ipython3",
   "version": "3.6.4"
  }
 },
 "nbformat": 4,
 "nbformat_minor": 2
}
