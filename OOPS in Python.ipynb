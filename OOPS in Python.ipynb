{
 "cells": [
  {
   "cell_type": "code",
   "execution_count": null,
   "metadata": {},
   "outputs": [],
   "source": [
    "# Variable Arguments"
   ]
  },
  {
   "cell_type": "code",
   "execution_count": 1,
   "metadata": {},
   "outputs": [
    {
     "name": "stdout",
     "output_type": "stream",
     "text": [
      "<class 'tuple'>\n",
      "(2, 3, 4, 5)\n"
     ]
    }
   ],
   "source": [
    "def print_positional_arguments(num1, *args):\n",
    "    print(type(args))\n",
    "    print(args)\n",
    "\n",
    "print_positional_arguments(1, 2, 3, 4, 5)"
   ]
  },
  {
   "cell_type": "code",
   "execution_count": 2,
   "metadata": {},
   "outputs": [
    {
     "name": "stdout",
     "output_type": "stream",
     "text": [
      "<class 'dict'>\n",
      "{'num2': 2, 'str3': 'String Input'}\n"
     ]
    }
   ],
   "source": [
    "def print_keyword_arguments(num1, **kwargs):\n",
    "    print(type(kwargs))\n",
    "    print(kwargs)\n",
    "\n",
    "print_keyword_arguments(1, num2=2, str3='String Input')"
   ]
  },
  {
   "cell_type": "code",
   "execution_count": 3,
   "metadata": {},
   "outputs": [
    {
     "name": "stdout",
     "output_type": "stream",
     "text": [
      "(9, 27)\n",
      "<class 'tuple'>\n",
      "9\n",
      "27\n"
     ]
    }
   ],
   "source": [
    "def square_and_cube(num):\n",
    "    return num**2, num**3\n",
    "\n",
    "answer = square_and_cube(3)\n",
    "print(answer)\n",
    "print(type(answer))\n",
    "\n",
    "square, cube = square_and_cube(3)\n",
    "print(square)\n",
    "print(cube)"
   ]
  },
  {
   "cell_type": "code",
   "execution_count": null,
   "metadata": {},
   "outputs": [],
   "source": [
    "# Functions as arguments"
   ]
  },
  {
   "cell_type": "code",
   "execution_count": 18,
   "metadata": {},
   "outputs": [
    {
     "data": {
      "text/plain": [
       "11"
      ]
     },
     "execution_count": 18,
     "metadata": {},
     "output_type": "execute_result"
    }
   ],
   "source": [
    "def add(num1, num2):\n",
    "    return num1 + num2\n",
    "\n",
    "addition = add\n",
    "addition(5, 6)"
   ]
  },
  {
   "cell_type": "code",
   "execution_count": 19,
   "metadata": {},
   "outputs": [],
   "source": [
    "# Lambda"
   ]
  },
  {
   "cell_type": "code",
   "execution_count": 20,
   "metadata": {},
   "outputs": [
    {
     "data": {
      "text/plain": [
       "5"
      ]
     },
     "execution_count": 20,
     "metadata": {},
     "output_type": "execute_result"
    }
   ],
   "source": [
    "# this is the same as our add() function\n",
    "add_lambda = lambda a, b: a + b\n",
    "\n",
    "add_lambda(2,3)"
   ]
  },
  {
   "cell_type": "code",
   "execution_count": 40,
   "metadata": {},
   "outputs": [
    {
     "name": "stdout",
     "output_type": "stream",
     "text": [
      "3.1622776601683795\n",
      "3.1622776601683795\n"
     ]
    }
   ],
   "source": [
    "# example: these two are equivalent\n",
    "import math\n",
    "def square_root(x):\n",
    "    return math.sqrt(x) if x > 0 else None\n",
    "\n",
    "square_root_lambda = lambda x: math.sqrt(x) if x > 0 else None\n",
    "\n",
    "print(square_root_lambda(10))\n",
    "print(square_root(10))"
   ]
  },
  {
   "cell_type": "code",
   "execution_count": 52,
   "metadata": {},
   "outputs": [
    {
     "data": {
      "text/plain": [
       "3"
      ]
     },
     "execution_count": 52,
     "metadata": {},
     "output_type": "execute_result"
    }
   ],
   "source": [
    "# this is a higher order function\n",
    "def calculate(func, num1, num2):\n",
    "    return func(num1, num2)\n",
    "\n",
    "# call calculate with the add function\n",
    "calculate(add, 1, 2)"
   ]
  },
  {
   "cell_type": "code",
   "execution_count": 58,
   "metadata": {},
   "outputs": [
    {
     "name": "stdout",
     "output_type": "stream",
     "text": [
      "<map object at 0x108a420b8>\n",
      "<map object at 0x1093090f0>\n"
     ]
    }
   ],
   "source": [
    "# map\n",
    "\n",
    "numbers = list(range(10))\n",
    "\n",
    "def square(number):\n",
    "    return number * number\n",
    "\n",
    "print(map(square, numbers))"
   ]
  },
  {
   "cell_type": "code",
   "execution_count": 59,
   "metadata": {},
   "outputs": [
    {
     "name": "stdout",
     "output_type": "stream",
     "text": [
      "<map object at 0x1092f6080>\n"
     ]
    }
   ],
   "source": [
    "# same thing using lambda\n",
    "\n",
    "print(map(lambda x: x * x, numbers))"
   ]
  },
  {
   "cell_type": "code",
   "execution_count": 60,
   "metadata": {},
   "outputs": [
    {
     "name": "stdout",
     "output_type": "stream",
     "text": [
      "<filter object at 0x1093016a0>\n",
      "<filter object at 0x109301710>\n"
     ]
    }
   ],
   "source": [
    "# filter\n",
    "\n",
    "numbers = list(range(10))\n",
    "\n",
    "def is_even(x):\n",
    "    return x % 2 == 0\n",
    "\n",
    "is_even_lambda = lambda x: x % 2 == 0\n",
    "\n",
    "print(filter(is_even, numbers))\n",
    "print(filter(is_even_lambda, numbers))"
   ]
  },
  {
   "cell_type": "code",
   "execution_count": 61,
   "metadata": {},
   "outputs": [
    {
     "name": "stdout",
     "output_type": "stream",
     "text": [
      "30\n",
      "12\n"
     ]
    }
   ],
   "source": [
    "# Nested Functions - function returning function\n",
    "def outer(a):\n",
    "    def inner(b):\n",
    "        return a + b + 5\n",
    "    return inner\n",
    "\n",
    "twentyfive_adder = outer(20)\n",
    "seven_adder = outer(2)\n",
    "\n",
    "\n",
    "print(twentyfive_adder(5))\n",
    "print(seven_adder(5))"
   ]
  },
  {
   "cell_type": "code",
   "execution_count": 64,
   "metadata": {},
   "outputs": [
    {
     "name": "stdout",
     "output_type": "stream",
     "text": [
      "Rita female\n"
     ]
    },
    {
     "data": {
      "text/plain": [
       "<Person: Ritu (female)>"
      ]
     },
     "execution_count": 64,
     "metadata": {},
     "output_type": "execute_result"
    }
   ],
   "source": [
    "# class\n",
    "\n",
    "class Person(object):  \n",
    "    def __init__(self, name, sex):\n",
    "        self.name = name\n",
    "        self.sex = sex\n",
    "\n",
    "    def __str__(self):\n",
    "        return self.name + ' ' + self.sex\n",
    "\n",
    "    def __repr__(self):\n",
    "        return '<Person: {} ({})>'.format(self.name, self.sex)\n",
    "\n",
    "    def change_name(self, name):\n",
    "        self.name = name\n",
    "\n",
    "p = Person('Rita', 'female')\n",
    "\n",
    "print(p)\n",
    "p"
   ]
  },
  {
   "cell_type": "code",
   "execution_count": 65,
   "metadata": {},
   "outputs": [
    {
     "data": {
      "text/plain": [
       "<Person: Ritu (female)>"
      ]
     },
     "execution_count": 65,
     "metadata": {},
     "output_type": "execute_result"
    }
   ],
   "source": [
    "p.change_name('Ritu')\n",
    "p"
   ]
  },
  {
   "cell_type": "code",
   "execution_count": 73,
   "metadata": {},
   "outputs": [
    {
     "name": "stdout",
     "output_type": "stream",
     "text": [
      "quack! quack!\n",
      "flap! flap!\n",
      "I'm quacking like a duck!\n",
      "I'm flapping my arms!\n"
     ]
    }
   ],
   "source": [
    "# duck typing ~ Protocol\n",
    "\n",
    "class Duck(object):\n",
    "    def quack(self):\n",
    "        print ('quack! quack!')\n",
    "    \n",
    "    def fly(self):\n",
    "        print ('flap! flap!')\n",
    "\n",
    "class Person(Duck):\n",
    "    def quack(self):\n",
    "        print (\"I'm quacking like a duck!\")\n",
    "        \n",
    "    def fly(self):\n",
    "        print (\"I'm flapping my arms!\")\n",
    "\n",
    "def quack_and_fly(thing):\n",
    "    if isinstance(thing, Duck):\n",
    "        thing.quack()\n",
    "        thing.fly()\n",
    "\n",
    "quack_and_fly(Duck())\n",
    "quack_and_fly(Person())"
   ]
  },
  {
   "cell_type": "code",
   "execution_count": 74,
   "metadata": {},
   "outputs": [
    {
     "name": "stdout",
     "output_type": "stream",
     "text": [
      "instance method called <__main__.MyClass object at 0x108a4d198>\n",
      "class method called <class '__main__.MyClass'>\n",
      "static method called\n"
     ]
    }
   ],
   "source": [
    "# Instance vs Class vs Static Methods\n",
    "\n",
    "class MyClass:\n",
    "    def instance_method(self):\n",
    "        print('instance method called', self)\n",
    "\n",
    "    @classmethod\n",
    "    def class_method(cls):\n",
    "        print('class method called', cls)\n",
    "\n",
    "    @staticmethod\n",
    "    def static_method():\n",
    "        print('static method called')\n",
    "\n",
    "obj = MyClass()\n",
    "\n",
    "obj.instance_method()\n",
    "MyClass.class_method()\n",
    "MyClass.static_method()"
   ]
  },
  {
   "cell_type": "code",
   "execution_count": null,
   "metadata": {},
   "outputs": [],
   "source": []
  }
 ],
 "metadata": {
  "kernelspec": {
   "display_name": "Python 3",
   "language": "python",
   "name": "python3"
  },
  "language_info": {
   "codemirror_mode": {
    "name": "ipython",
    "version": 3
   },
   "file_extension": ".py",
   "mimetype": "text/x-python",
   "name": "python",
   "nbconvert_exporter": "python",
   "pygments_lexer": "ipython3",
   "version": "3.6.4"
  }
 },
 "nbformat": 4,
 "nbformat_minor": 2
}
