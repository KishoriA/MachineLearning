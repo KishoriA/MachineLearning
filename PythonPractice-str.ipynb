{
 "cells": [
  {
   "cell_type": "code",
   "execution_count": 4,
   "metadata": {},
   "outputs": [
    {
     "name": "stdout",
     "output_type": "stream",
     "text": [
      "Hello_Hello_Hello_Hello_Hello_Hello_\n",
      "----------\n"
     ]
    }
   ],
   "source": [
    "print((\"Hello_\" * 3) * 2)\n",
    "print(\"-\" * 10)"
   ]
  },
  {
   "cell_type": "code",
   "execution_count": 8,
   "metadata": {},
   "outputs": [
    {
     "name": "stdout",
     "output_type": "stream",
     "text": [
      "This is a multi-line string.\n",
      "Line two.\n",
      "\n",
      "Last \tline!\n",
      "\n"
     ]
    }
   ],
   "source": [
    "s = \"\"\"This is a multi-line string.\n",
    "Line two.\\n\n",
    "Last \\tline!\n",
    "\"\"\"\n",
    "print(s)"
   ]
  },
  {
   "cell_type": "code",
   "execution_count": 19,
   "metadata": {},
   "outputs": [
    {
     "name": "stdout",
     "output_type": "stream",
     "text": [
      "e\n",
      "World\n",
      "Worl\n",
      "HloWr\n",
      "True\n",
      "HELLO WORLD\n",
      "hello world\n"
     ]
    }
   ],
   "source": [
    "s = \"Hello World\"\n",
    "\n",
    "# print sub strings\n",
    "print(s[1])\n",
    "print(s[6:11])\n",
    "print(s[-5:-1])\n",
    "print(s[0:10:2]) # like a list, so string is lost of characters\n",
    "\n",
    "# test substring membership\n",
    "print(\"Wor\" in s)\n",
    "\n",
    "print(s.upper())\n",
    "print(s.lower())"
   ]
  },
  {
   "cell_type": "code",
   "execution_count": 27,
   "metadata": {},
   "outputs": [
    {
     "name": "stdout",
     "output_type": "stream",
     "text": [
      "Hello World from India and from India\n",
      "Hello.World\n",
      "H E L l O w   o r l d.\n"
     ]
    },
    {
     "data": {
      "text/plain": [
       "['H', 'E', 'L', 'l', 'O', 'w', 'o', 'r', 'l', 'd.']"
      ]
     },
     "execution_count": 27,
     "metadata": {},
     "output_type": "execute_result"
    }
   ],
   "source": [
    "# Replace\n",
    "s = \"Hello World again and again\"\n",
    "print(s.replace(\"again\", \"from India\"))\n",
    "\n",
    "# Strip\n",
    "s = \"...Hello.World...\"\n",
    "print(s.strip('.'))\n",
    "\n",
    "s = \"   H E L l O w   o r l d.  \"\n",
    "print(s.strip(' '))\n",
    "\n",
    "s.split()"
   ]
  },
  {
   "cell_type": "code",
   "execution_count": 28,
   "metadata": {},
   "outputs": [
    {
     "data": {
      "text/plain": [
       "['The', 'quick', 'brown', 'fox', 'jumped', 'over', 'the', 'lazy', 'dog']"
      ]
     },
     "execution_count": 28,
     "metadata": {},
     "output_type": "execute_result"
    }
   ],
   "source": [
    "s = \"The quick brown fox jumped over the lazy dog\"\n",
    "\n",
    "s.split()"
   ]
  },
  {
   "cell_type": "code",
   "execution_count": 30,
   "metadata": {},
   "outputs": [
    {
     "name": "stdout",
     "output_type": "stream",
     "text": [
      "Spiderman, Superman, Batman are all superheroes\n"
     ]
    }
   ],
   "source": [
    "heroes = [\"Spiderman\", \"Superman\", \"Batman\"]\n",
    "\n",
    "names = ', '.join(heroes)\n",
    "\n",
    "print(names + \" are all superheroes\")"
   ]
  },
  {
   "cell_type": "code",
   "execution_count": 32,
   "metadata": {},
   "outputs": [
    {
     "name": "stdout",
     "output_type": "stream",
     "text": [
      "out of loop without using break statement\n"
     ]
    },
    {
     "data": {
      "text/plain": [
       "[(2, 169), (3, 121), (5, 121), (6, 225)]"
      ]
     },
     "execution_count": 32,
     "metadata": {},
     "output_type": "execute_result"
    }
   ],
   "source": []
  },
  {
   "cell_type": "code",
   "execution_count": 38,
   "metadata": {},
   "outputs": [
    {
     "name": "stdout",
     "output_type": "stream",
     "text": [
      "{0, 1, 2, 3, 4, 5, 6}\n",
      "{0: 0, 1: 1, 2: 4, 3: 9, 4: 16, 5: 25, 6: 36, 7: 49, 8: 64, 9: 81}\n",
      "<generator object <genexpr> at 0x10bdd1200>\n",
      "True\n",
      "False\n",
      "True\n",
      "False\n",
      "True\n",
      "False\n",
      "True\n",
      "False\n",
      "True\n",
      "False\n"
     ]
    }
   ],
   "source": []
  },
  {
   "cell_type": "code",
   "execution_count": 40,
   "metadata": {},
   "outputs": [
    {
     "name": "stdout",
     "output_type": "stream",
     "text": [
      "list1 [[1, 2], [1, 2], [1, 2]]\n",
      "list2 [[1, 2], [1, 2], [1, 2], [1, 2]]\n",
      "----------------------------------------\n",
      "list1 [[1, 2, 1], [1, 2, 1], [1, 2, 1]]\n",
      "list2 [[1, 2, 1], [1, 2, 1], [1, 2, 1], [1, 2, 1]]\n",
      "[1, 2, 1]\n"
     ]
    }
   ],
   "source": []
  },
  {
   "cell_type": "code",
   "execution_count": 41,
   "metadata": {},
   "outputs": [
    {
     "name": "stdout",
     "output_type": "stream",
     "text": [
      "shallow_copy [[1, 2], [1, 2], [1, 2]]\n",
      "deep_copy [[1, 2], [1, 2], [1, 2]]\n",
      "----------------------------------------\n",
      "shallow_copy [[1, 2, 3], [1, 2, 3], [1, 2, 3]]\n",
      "deep_copy [[1, 2], [1, 2], [1, 2]]\n"
     ]
    }
   ],
   "source": [
    "import copy\n",
    "a = [1, 2]\n",
    "list1 = [a] * 3\n",
    "\n",
    "shallow_copy = copy.copy(list1)\n",
    "print(\"shallow_copy\", shallow_copy)\n",
    "\n",
    "deep_copy = copy.deepcopy(list1)\n",
    "print(\"deep_copy\", deep_copy)\n",
    "\n",
    "print('-' * 40)\n",
    "\n",
    "a.append(3)\n",
    "print(\"shallow_copy\", shallow_copy)\n",
    "print(\"deep_copy\", deep_copy)"
   ]
  }
 ],
 "metadata": {
  "kernelspec": {
   "display_name": "Python 3",
   "language": "python",
   "name": "python3"
  },
  "language_info": {
   "codemirror_mode": {
    "name": "ipython",
    "version": 3
   },
   "file_extension": ".py",
   "mimetype": "text/x-python",
   "name": "python",
   "nbconvert_exporter": "python",
   "pygments_lexer": "ipython3",
   "version": "3.6.4"
  }
 },
 "nbformat": 4,
 "nbformat_minor": 2
}
