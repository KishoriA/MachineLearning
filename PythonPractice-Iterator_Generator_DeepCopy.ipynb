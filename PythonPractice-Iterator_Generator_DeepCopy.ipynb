{
 "cells": [
  {
   "cell_type": "code",
   "execution_count": 4,
   "metadata": {},
   "outputs": [
    {
     "name": "stdout",
     "output_type": "stream",
     "text": [
      "out of loop without using break statement\n"
     ]
    },
    {
     "data": {
      "text/plain": [
       "[(2, 169), (3, 121), (5, 121), (6, 225)]"
      ]
     },
     "execution_count": 4,
     "metadata": {},
     "output_type": "execute_result"
    }
   ],
   "source": [
    "lst1 = [4, 7, 13, 11, 3, 11, 15]\n",
    "lst2 = []\n",
    "\n",
    "for index, e in enumerate(lst1):\n",
    "    if e == 10:\n",
    "        break\n",
    "    if e < 10:\n",
    "        continue\n",
    "    lst2.append((index, e*e))\n",
    "else:\n",
    "    print(\"out of loop without using break statement\")\n",
    "    \n",
    "lst2"
   ]
  },
  {
   "cell_type": "code",
   "execution_count": null,
   "metadata": {},
   "outputs": [],
   "source": [
    "# Comprehensions\n",
    "\n",
    "numbers = list(range(10))\n",
    "\n",
    "remainders_of_7 = {n % 7 for n in numbers}\n",
    "print(remainders_of_7)\n",
    "\n",
    "squares = {n: n*n for n in numbers}\n",
    "print(squares)\n",
    "\n",
    "# generator\n",
    "\n",
    "even_gen = (n % 2 == 0 for n in numbers)\n",
    "print(even_gen)\n",
    "print(next(even_gen))\n",
    "print(next(even_gen))\n",
    "print(next(even_gen))\n",
    "print(next(even_gen))\n",
    "print(next(even_gen))\n",
    "print(next(even_gen))\n",
    "print(next(even_gen))\n",
    "print(next(even_gen))\n",
    "print(next(even_gen))\n",
    "print(next(even_gen))\n",
    "# needs stop iteratio for 11th time"
   ]
  },
  {
   "cell_type": "code",
   "execution_count": 3,
   "metadata": {},
   "outputs": [
    {
     "name": "stdout",
     "output_type": "stream",
     "text": [
      "list1 [[1, 2], [1, 2], [1, 2]]\n",
      "list2 [[1, 2], [1, 2], [1, 2], [1, 2]]\n",
      "----------------------------------------\n",
      "list1 [[1, 2, 1], [1, 2, 1], [1, 2, 1]]\n",
      "list2 [[1, 2, 1], [1, 2, 1], [1, 2, 1], [1, 2, 1]]\n",
      "[1, 2, 1]\n"
     ]
    }
   ],
   "source": [
    "# deep copy vs shallow copy\n",
    "\n",
    "a = [1, 2]\n",
    "\n",
    "list1 = [a] * 3\n",
    "print(\"list1\", list1)\n",
    "\n",
    "list2 = [a] * 4\n",
    "print(\"list2\", list2)\n",
    "\n",
    "print('-' * 40)\n",
    "\n",
    "list1[0].append(1)\n",
    "\n",
    "print(\"list1\", list1)\n",
    "print(\"list2\", list2)\n",
    "print(a)"
   ]
  },
  {
   "cell_type": "code",
   "execution_count": 2,
   "metadata": {},
   "outputs": [
    {
     "name": "stdout",
     "output_type": "stream",
     "text": [
      "shallow_copy [[1, 2], [1, 2], [1, 2]]\n",
      "deep_copy [[1, 2], [1, 2], [1, 2]]\n",
      "----------------------------------------\n",
      "shallow_copy [[1, 2, 3], [1, 2, 3], [1, 2, 3]]\n",
      "deep_copy [[1, 2], [1, 2], [1, 2]]\n"
     ]
    }
   ],
   "source": [
    "import copy\n",
    "a = [1, 2]\n",
    "list1 = [a] * 3\n",
    "\n",
    "shallow_copy = copy.copy(list1)\n",
    "print(\"shallow_copy\", shallow_copy)\n",
    "\n",
    "deep_copy = copy.deepcopy(list1)\n",
    "print(\"deep_copy\", deep_copy)\n",
    "\n",
    "print('-' * 40)\n",
    "\n",
    "a.append(3)\n",
    "print(\"shallow_copy\", shallow_copy)\n",
    "print(\"deep_copy\", deep_copy)"
   ]
  }
 ],
 "metadata": {
  "kernelspec": {
   "display_name": "Python 3",
   "language": "python",
   "name": "python3"
  },
  "language_info": {
   "codemirror_mode": {
    "name": "ipython",
    "version": 3
   },
   "file_extension": ".py",
   "mimetype": "text/x-python",
   "name": "python",
   "nbconvert_exporter": "python",
   "pygments_lexer": "ipython3",
   "version": "3.6.4"
  }
 },
 "nbformat": 4,
 "nbformat_minor": 2
}
