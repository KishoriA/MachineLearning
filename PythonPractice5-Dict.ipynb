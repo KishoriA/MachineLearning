{
 "cells": [
  {
   "cell_type": "code",
   "execution_count": 1,
   "metadata": {},
   "outputs": [],
   "source": [
    "# key/value hash table structure is called a \"dict\"\n",
    "    \n",
    "# Properties:\n",
    "# Keys are unordered, unique, and must be hashable\n",
    "# Indexed on keys & Mutable\n",
    "# Provides methods to iterate over keys, values, and key-value pairs"
   ]
  },
  {
   "cell_type": "code",
   "execution_count": 5,
   "metadata": {},
   "outputs": [
    {
     "name": "stdout",
     "output_type": "stream",
     "text": [
      "<class 'dict'>\n",
      "{'courses': ['Python', 'Data Science'], 'duration': '2 months'}\n",
      "['Python', 'Data Science']\n"
     ]
    }
   ],
   "source": [
    "institute = {}\n",
    "print(type(institute))\n",
    "\n",
    "institute['courses'] = ['Python', 'Data Science']\n",
    "institute['duration'] = '2 months'\n",
    "print(institute)\n",
    "\n",
    "# get individual elements\n",
    "print(institute['courses'])"
   ]
  },
  {
   "cell_type": "code",
   "execution_count": 9,
   "metadata": {},
   "outputs": [
    {
     "name": "stdout",
     "output_type": "stream",
     "text": [
      "Fees are known\n",
      "['Python', 'Data Science']\n"
     ]
    }
   ],
   "source": [
    "institute = {'name': 'Machine Learning', 'courses': ['Python', 'Data Science'], 'duration': '2 months'}\n",
    "\n",
    "if 'courses' in institute:\n",
    "    print('Fees are known')\n",
    "    print(institute['courses'])\n",
    "else:\n",
    "    print('fees key is not present in dictionary')"
   ]
  },
  {
   "cell_type": "code",
   "execution_count": 13,
   "metadata": {},
   "outputs": [
    {
     "name": "stdout",
     "output_type": "stream",
     "text": [
      "None\n",
      "<class 'NoneType'>\n",
      "100\n"
     ]
    }
   ],
   "source": [
    "institute = {'name': 'Machine Learning', 'courses': ['Python', 'Data Science'], 'duration': '2 months'}\n",
    "\n",
    "# return the value for key fees if key is present, else return None\n",
    "print(institute.get('fees'))\n",
    "print(type(institute.get('fees')))\n",
    "\n",
    "# return the value for key fees if key is present, else return this default value\n",
    "print(institute.get('fees', 100))"
   ]
  },
  {
   "cell_type": "code",
   "execution_count": 14,
   "metadata": {},
   "outputs": [
    {
     "name": "stdout",
     "output_type": "stream",
     "text": [
      "Key: name\n",
      "Key: courses\n",
      "Key: duration\n",
      "Value: Machine Learning\n",
      "Value: ['Python', 'Data Science']\n",
      "Value: 2 months\n"
     ]
    }
   ],
   "source": [
    "for key in institute.keys():\n",
    "    print(\"Key:\", key)\n",
    "\n",
    "for val in institute.values():\n",
    "    print(\"Value:\", val)"
   ]
  },
  {
   "cell_type": "code",
   "execution_count": 15,
   "metadata": {},
   "outputs": [
    {
     "name": "stdout",
     "output_type": "stream",
     "text": [
      "Key: name\tValue: Machine Learning\n",
      "Key: courses\tValue: ['Python', 'Data Science']\n",
      "Key: duration\tValue: 2 months\n"
     ]
    }
   ],
   "source": [
    "for key, val in institute.items():\n",
    "    print(\"Key: {}\\tValue: {}\".format(key, val))"
   ]
  }
 ],
 "metadata": {
  "kernelspec": {
   "display_name": "Python 3",
   "language": "python",
   "name": "python3"
  },
  "language_info": {
   "codemirror_mode": {
    "name": "ipython",
    "version": 3
   },
   "file_extension": ".py",
   "mimetype": "text/x-python",
   "name": "python",
   "nbconvert_exporter": "python",
   "pygments_lexer": "ipython3",
   "version": "3.6.4"
  }
 },
 "nbformat": 4,
 "nbformat_minor": 2
}
