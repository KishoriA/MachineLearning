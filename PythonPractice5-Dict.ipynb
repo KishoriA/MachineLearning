{
 "cells": [
  {
   "cell_type": "code",
   "execution_count": null,
   "metadata": {},
   "outputs": [],
   "source": [
    "# key/value hash table structure is called a \"dict\"\n",
    "    \n",
    "# Properties:\n",
    "# Keys are unordered, unique, and must be hashable\n",
    "# Indexed on keys & Mutable\n",
    "# Provides methods to iterate over keys, values, and key-value pairs"
   ]
  }
 ],
 "metadata": {
  "kernelspec": {
   "display_name": "Python 3",
   "language": "python",
   "name": "python3"
  },
  "language_info": {
   "codemirror_mode": {
    "name": "ipython",
    "version": 3
   },
   "file_extension": ".py",
   "mimetype": "text/x-python",
   "name": "python",
   "nbconvert_exporter": "python",
   "pygments_lexer": "ipython3",
   "version": "3.6.4"
  }
 },
 "nbformat": 4,
 "nbformat_minor": 2
}
