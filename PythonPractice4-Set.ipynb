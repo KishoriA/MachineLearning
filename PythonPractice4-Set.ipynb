{
 "cells": [
  {
   "cell_type": "code",
   "execution_count": 1,
   "metadata": {},
   "outputs": [],
   "source": [
    "# Set is:\n",
    "#     Unordered sequence, not Indexable\n",
    "#     Mutable\n",
    "#     Elements need to be hashable to be added to set, and are unique"
   ]
  },
  {
   "cell_type": "code",
   "execution_count": 3,
   "metadata": {},
   "outputs": [
    {
     "name": "stdout",
     "output_type": "stream",
     "text": [
      "set()\n",
      "{1, 2.3, 'New York'}\n",
      "<class 'set'>\n"
     ]
    }
   ],
   "source": [
    "s = set()  # empty\n",
    "print(s)\n",
    "\n",
    "s = {1, 2.3, 'New York'}\n",
    "print(s)\n",
    "print(type(s))"
   ]
  },
  {
   "cell_type": "code",
   "execution_count": 11,
   "metadata": {},
   "outputs": [
    {
     "name": "stdout",
     "output_type": "stream",
     "text": [
      "{1, 2.3, 3.1, 'New York'}\n",
      "{1, 2.3, 3.1, 'New York'}\n",
      "{3}\n"
     ]
    }
   ],
   "source": [
    "s = {1, 2.3, 'New York'}\n",
    "\n",
    "# add a value to the set\n",
    "s.add(3.1)\n",
    "print(s)\n",
    "\n",
    "# add the same value again\n",
    "s.add(1)\n",
    "print(s)\n",
    "\n",
    "# add elements of another set to this set\n",
    "s = {\"Sri Lanka\", 2, 3, \"India\"}\n",
    "s.update({3, \"India\", 5})\n",
    "s.add(\"Alaska\")\n",
    "print(s)"
   ]
  },
  {
   "cell_type": "code",
   "execution_count": 15,
   "metadata": {},
   "outputs": [
    {
     "name": "stdout",
     "output_type": "stream",
     "text": [
      "{2, 3, 5, 'India', 'Sri Lanka'}\n",
      "{2, 3, 5, 'India', 'Sri Lanka'}\n",
      "{'India', 3}\n",
      "{'India', 3}\n",
      "{'Sri Lanka', 2}\n",
      "{'Sri Lanka', 2}\n"
     ]
    }
   ],
   "source": [
    "s1 = {\"Sri Lanka\", 2, 3, \"India\"}\n",
    "s2 = {3, \"India\", 5}\n",
    "\n",
    "print(s1.union(s2))\n",
    "print(s1 | s2)\n",
    "\n",
    "print(s1.intersection(s2))\n",
    "print(s1 & s2)\n",
    "\n",
    "print(s1.difference(s2))\n",
    "print(s1 - s2)"
   ]
  },
  {
   "cell_type": "code",
   "execution_count": 18,
   "metadata": {},
   "outputs": [
    {
     "name": "stdout",
     "output_type": "stream",
     "text": [
      "{'Sri Lanka', 2}\n",
      "False\n",
      "True\n"
     ]
    }
   ],
   "source": [
    "# .symmetric_difference: the symmetric difference between the sets (alternate syntax: set1 ^ set2)\n",
    "# .issubset: is A a subset of B ?\n",
    "# .issuperset: is A a superset of B ?\n",
    "\n",
    "s1 = {\"Sri Lanka\", 2, 3, \"India\"}\n",
    "s2 = {3, \"India\"}\n",
    "\n",
    "print(s1 ^ s2)\n",
    "print(s1.issubset(s2))\n",
    "print(s1.issuperset(s2))"
   ]
  }
 ],
 "metadata": {
  "kernelspec": {
   "display_name": "Python 3",
   "language": "python",
   "name": "python3"
  },
  "language_info": {
   "codemirror_mode": {
    "name": "ipython",
    "version": 3
   },
   "file_extension": ".py",
   "mimetype": "text/x-python",
   "name": "python",
   "nbconvert_exporter": "python",
   "pygments_lexer": "ipython3",
   "version": "3.6.4"
  }
 },
 "nbformat": 4,
 "nbformat_minor": 2
}
