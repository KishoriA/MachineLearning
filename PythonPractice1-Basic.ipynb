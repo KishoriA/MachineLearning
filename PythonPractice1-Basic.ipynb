{
 "cells": [
  {
   "cell_type": "code",
   "execution_count": 1,
   "metadata": {},
   "outputs": [
    {
     "name": "stdout",
     "output_type": "stream",
     "text": [
      "Hello Python!\n"
     ]
    }
   ],
   "source": [
    "print(\"Hello Python!\")"
   ]
  },
  {
   "cell_type": "code",
   "execution_count": 3,
   "metadata": {},
   "outputs": [
    {
     "name": "stdout",
     "output_type": "stream",
     "text": [
      "I am new to Python.\n",
      "<class 'str'>\n",
      "4557655400\n"
     ]
    }
   ],
   "source": [
    "my_string = \"I am new to Python.\"\n",
    "\n",
    "print(my_string)\n",
    "print(type(my_string))\n",
    "print(id(my_string))"
   ]
  },
  {
   "cell_type": "code",
   "execution_count": 8,
   "metadata": {},
   "outputs": [
    {
     "name": "stdout",
     "output_type": "stream",
     "text": [
      "Sum of a and b is 3\n"
     ]
    }
   ],
   "source": [
    "a = 1\n",
    "b = 2\n",
    "c = a+b\n",
    "print(\"Sum of a and b is\", c)"
   ]
  },
  {
   "cell_type": "code",
   "execution_count": 10,
   "metadata": {},
   "outputs": [
    {
     "name": "stdout",
     "output_type": "stream",
     "text": [
      "5\n",
      "3.14\n",
      "Movies\n"
     ]
    }
   ],
   "source": [
    "a, b, c = 5, 3.14, \"Movies\"\n",
    "\n",
    "print(a)\n",
    "print(b)\n",
    "print(c)"
   ]
  },
  {
   "cell_type": "code",
   "execution_count": 11,
   "metadata": {},
   "outputs": [
    {
     "name": "stdout",
     "output_type": "stream",
     "text": [
      "2\n",
      "2\n",
      "2\n"
     ]
    }
   ],
   "source": [
    "a = b = c = 2\n",
    "print(a)\n",
    "print(b)\n",
    "print(c)"
   ]
  },
  {
   "cell_type": "code",
   "execution_count": 18,
   "metadata": {},
   "outputs": [
    {
     "name": "stdout",
     "output_type": "stream",
     "text": [
      "inside function 100\n",
      "local variable number\n",
      "inside function 100\n",
      "local variable 300\n",
      "inside function 100\n",
      "local variable 20\n",
      "100\n"
     ]
    }
   ],
   "source": [
    "global_a = 100\n",
    "\n",
    "def funcA(x):\n",
    "    print(\"inside function\", global_a)\n",
    "    local_a = x\n",
    "    print(\"local variable\", local_a)\n",
    "    \n",
    "funcA(\"number\")\n",
    "funcA(\"300\")\n",
    "funcA(20)\n",
    "\n",
    "print(global_a)"
   ]
  },
  {
   "cell_type": "code",
   "execution_count": 35,
   "metadata": {},
   "outputs": [
    {
     "name": "stdout",
     "output_type": "stream",
     "text": [
      "inside function 100\n",
      "<class 'int'>\n",
      "after modification number\n",
      "inside function number\n",
      "<class 'str'>\n",
      "after modification 300\n",
      "inside function 300\n",
      "<class 'str'>\n",
      "after modification 20\n",
      "20\n"
     ]
    }
   ],
   "source": [
    "global_a = 100\n",
    "\n",
    "def funcA(x):\n",
    "    global global_a\n",
    "    print(\"inside function\", global_a)\n",
    "    print(type(global_a))\n",
    "    \n",
    "    global_a = x\n",
    "    print(\"after modification\", global_a)\n",
    "    \n",
    "funcA(\"number\")\n",
    "funcA(\"300\")\n",
    "funcA(20)\n",
    "\n",
    "print(global_a)"
   ]
  },
  {
   "cell_type": "code",
   "execution_count": 40,
   "metadata": {},
   "outputs": [
    {
     "name": "stdout",
     "output_type": "stream",
     "text": [
      "In func1: 3\n",
      "In func2: 3\n"
     ]
    }
   ],
   "source": [
    "a = 5\n",
    "\n",
    "def func1():\n",
    "#     global a # Uncomment this line to override a\n",
    "    a = 3\n",
    "    print(\"In func1:\", a)\n",
    "\n",
    "def func2():\n",
    "    print(\"In func2:\", a)\n",
    "\n",
    "func1()\n",
    "func2()"
   ]
  },
  {
   "cell_type": "code",
   "execution_count": 43,
   "metadata": {},
   "outputs": [
    {
     "name": "stdout",
     "output_type": "stream",
     "text": [
      "2.089905111439398\n"
     ]
    }
   ],
   "source": [
    "# import the math module\n",
    "import math\n",
    "\n",
    "# use the log10 function in the math module\n",
    "c = math.log10(123)\n",
    "print(c)"
   ]
  },
  {
   "cell_type": "code",
   "execution_count": 52,
   "metadata": {},
   "outputs": [
    {
     "name": "stdout",
     "output_type": "stream",
     "text": [
      "/Users/kisagrawal/Documents/ML/MyNotebooks\n"
     ]
    }
   ],
   "source": [
    "with open('myfile.txt', 'w') as f:\n",
    "    f.write(\"This is my first file!\\n\")\n",
    "    f.write(\"Second line! I am writing in the file.\\n\")\n",
    "    f.write(\"Last line! Done.\\n\")\n",
    "    f.close()\n",
    "\n",
    "\n",
    "# let's verify if it was really created.\n",
    "# For that, let's find out which directory we're working from\n",
    "import os\n",
    "print(os.path.abspath(os.curdir))"
   ]
  },
  {
   "cell_type": "code",
   "execution_count": 53,
   "metadata": {},
   "outputs": [
    {
     "name": "stdout",
     "output_type": "stream",
     "text": [
      "This is my first file!\n",
      "\n",
      "Second line! I am writing in the file.\n",
      "\n",
      "Last line! Done.\n",
      "\n"
     ]
    }
   ],
   "source": [
    "# read file\n",
    "\n",
    "with open('myfile.txt', 'r') as f:\n",
    "    for line in f:\n",
    "        print(line)"
   ]
  },
  {
   "cell_type": "code",
   "execution_count": 65,
   "metadata": {},
   "outputs": [
    {
     "data": {
      "text/plain": [
       "dict"
      ]
     },
     "execution_count": 65,
     "metadata": {},
     "output_type": "execute_result"
    }
   ],
   "source": [
    "# real data\n",
    "\n",
    "import yaml\n",
    "\n",
    "with open('match.yaml') as f:\n",
    "    match_data = yaml.load(f)\n",
    "\n",
    "type(match_data)"
   ]
  },
  {
   "cell_type": "code",
   "execution_count": 79,
   "metadata": {
    "scrolled": true
   },
   "outputs": [
    {
     "name": "stdout",
     "output_type": "stream",
     "text": [
      "/Users/kisagrawal/Documents/ML/MyNotebooks\n",
      "/Users/kisagrawal/Documents/ML/MyNotebooks/myfile.txt\n",
      "<_io.TextIOWrapper name='/Users/kisagrawal/Documents/ML/MyNotebooks/myfile.txt' mode='r' encoding='UTF-8'>\n",
      "<class '_io.TextIOWrapper'>\n"
     ]
    }
   ],
   "source": [
    "scriptpath = os.getcwd() # gives current notebook directory path\n",
    "print(scriptpath)\n",
    "filename = os.path.join(scriptpath, 'myfile.txt')\n",
    "print(filename)\n",
    "\n",
    "testfile = open(filename)\n",
    "print(testfile)\n",
    "print(type(testfile))\n",
    "\n",
    "with open(filename, 'a') as f:\n",
    "    f.write(\"This is appended later in file.\")"
   ]
  },
  {
   "cell_type": "code",
   "execution_count": null,
   "metadata": {},
   "outputs": [],
   "source": []
  }
 ],
 "metadata": {
  "kernelspec": {
   "display_name": "Python 3",
   "language": "python",
   "name": "python3"
  },
  "language_info": {
   "codemirror_mode": {
    "name": "ipython",
    "version": 3
   },
   "file_extension": ".py",
   "mimetype": "text/x-python",
   "name": "python",
   "nbconvert_exporter": "python",
   "pygments_lexer": "ipython3",
   "version": "3.6.4"
  }
 },
 "nbformat": 4,
 "nbformat_minor": 2
}
