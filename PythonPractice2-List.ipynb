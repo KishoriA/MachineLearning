{
 "cells": [
  {
   "cell_type": "code",
   "execution_count": 1,
   "metadata": {},
   "outputs": [],
   "source": [
    "# Everything in Python is an \"object\", including integers/floats\n",
    "# Most common and important types (classes)\n",
    "# \"Single value\": None, int, float, bool, str, complex\n",
    "# \"Multiple values\": list, tuple, set, dict"
   ]
  },
  {
   "cell_type": "code",
   "execution_count": 2,
   "metadata": {},
   "outputs": [
    {
     "data": {
      "text/plain": [
       "int"
      ]
     },
     "execution_count": 2,
     "metadata": {},
     "output_type": "execute_result"
    }
   ],
   "source": [
    "a = 42\n",
    "type(a)  # what is the type of a"
   ]
  },
  {
   "cell_type": "code",
   "execution_count": 3,
   "metadata": {},
   "outputs": [
    {
     "data": {
      "text/plain": [
       "True"
      ]
     },
     "execution_count": 3,
     "metadata": {},
     "output_type": "execute_result"
    }
   ],
   "source": [
    "a = 42\n",
    "isinstance(a, int)  # is a an int?"
   ]
  },
  {
   "cell_type": "code",
   "execution_count": 4,
   "metadata": {},
   "outputs": [],
   "source": [
    "# A list is a sequence of values. The values do not need to be of the same type."
   ]
  },
  {
   "cell_type": "code",
   "execution_count": 5,
   "metadata": {},
   "outputs": [],
   "source": [
    "# Lists are:\n",
    "#     Ordered\n",
    "#     Mutable\n",
    "#     Indexable (zero-indexed)\n",
    "#     Iterable\n",
    "#     Initialized using square brackets"
   ]
  },
  {
   "cell_type": "code",
   "execution_count": 6,
   "metadata": {},
   "outputs": [
    {
     "name": "stdout",
     "output_type": "stream",
     "text": [
      "[1, 2.3, 'New York']\n",
      "<class 'list'>\n"
     ]
    }
   ],
   "source": [
    "l = [1, 2.3, 'New York']\n",
    "\n",
    "print(l)\n",
    "print(type(l))"
   ]
  },
  {
   "cell_type": "code",
   "execution_count": 8,
   "metadata": {},
   "outputs": [
    {
     "name": "stdout",
     "output_type": "stream",
     "text": [
      "[1, 2.3, ['a', 'b'], 'New York', 3.1]\n"
     ]
    }
   ],
   "source": [
    "l = [1, 2.3, ['a', 'b'], 'New York']\n",
    "l.append(3.1)\n",
    "print(l)"
   ]
  },
  {
   "cell_type": "code",
   "execution_count": 12,
   "metadata": {},
   "outputs": [
    {
     "name": "stdout",
     "output_type": "stream",
     "text": [
      "[1, 2, 3, 4, 5, 6]\n",
      "[1, 2, 3, 4, 5, 6, [[7, 8, 9]]]\n"
     ]
    }
   ],
   "source": [
    "l = [1, 2, 3]\n",
    "\n",
    "l.extend([4, 5, 6])\n",
    "print(l)\n",
    "\n",
    "l.extend([[[7, 8, 9]]])\n",
    "print(l)"
   ]
  },
  {
   "cell_type": "code",
   "execution_count": 23,
   "metadata": {},
   "outputs": [
    {
     "name": "stdout",
     "output_type": "stream",
     "text": [
      "[1, 2, 3, 7, 8, 9]\n",
      "1\n",
      "3\n",
      "8\n"
     ]
    }
   ],
   "source": [
    "l1 = [1, 2, 3]\n",
    "l2 = [7, 8, 9]\n",
    "print(l1 + l2)\n",
    "\n",
    "# invalid\n",
    "# l1 = [1, 2, 3, 4]\n",
    "# l2 = [[7, 8, 9]\n",
    "# print(l1 + l2)\n",
    "\n",
    "#  Accessing list\n",
    "l3 = l1 + l2\n",
    "print(l3[0])\n",
    "print(l3[2])\n",
    "print(l3[-2])"
   ]
  },
  {
   "cell_type": "code",
   "execution_count": 31,
   "metadata": {},
   "outputs": [
    {
     "name": "stdout",
     "output_type": "stream",
     "text": [
      "[1, 2]\n",
      "[1, 2, 3, 7]\n",
      "[1, 7]\n",
      "[1, 2, 3, 7]\n",
      "[8, 9]\n"
     ]
    }
   ],
   "source": [
    "# Slicing\n",
    "# list_object[start:end:step] or\n",
    "# list_object[start:end]\n",
    "# start and end are indices (start inclusive, end exclusive). All slicing values are optional.\n",
    "\n",
    "l = [1, 2, 3, 7, 8, 9]\n",
    "print(l[:2]) # pick first two/ start index to the length of 2\n",
    "print(l[0:4]) # end exclusive, basically length\n",
    "print(l[0:7:3]) # step by 3\n",
    "print(l[:-2]) # drop last two\n",
    "print(l[4:]) # starting from 4th index till the end, length undefined"
   ]
  },
  {
   "cell_type": "code",
   "execution_count": 40,
   "metadata": {},
   "outputs": [
    {
     "name": "stdout",
     "output_type": "stream",
     "text": [
      "[]\n",
      "[0, 1, 2, 3, 4, 5, 6, 7, 8, 9, 10, 11, 12, 13, 14, 15, 16, 17, 18, 19]\n",
      "[0, 2, 4, 6, 8, 10, 12, 14, 16, 18]\n",
      "[1, 3, 5, 7, 9, 11, 13, 15, 17, 19]\n"
     ]
    }
   ],
   "source": [
    "lst = list(range(0))\n",
    "print(lst)\n",
    "\n",
    "lst = list(range(20))\n",
    "print(lst)\n",
    "print(lst[::2]) #even numbers\n",
    "print(lst[1::2]) #odd numbers"
   ]
  },
  {
   "cell_type": "code",
   "execution_count": 50,
   "metadata": {},
   "outputs": [
    {
     "name": "stdout",
     "output_type": "stream",
     "text": [
      "1\n",
      "2\n",
      "3\n",
      "4\n",
      "5 not in list\n",
      "4\n",
      "4\n",
      "1\n"
     ]
    }
   ],
   "source": [
    "# list, set, tuple, dict are all iterables\n",
    "\n",
    "iterator = [1, 2, 3, 4]  # list is an iterable\n",
    "\n",
    "for item in iterator:\n",
    "    print(item)\n",
    "\n",
    "if 5 in iterator:\n",
    "    print(\"I am here\")\n",
    "    \n",
    "else:\n",
    "    print(\"5 not in list\")\n",
    "    \n",
    "print(len(iterator))\n",
    "print(max(iterator))\n",
    "print(min(iterator))\n"
   ]
  },
  {
   "cell_type": "code",
   "execution_count": null,
   "metadata": {},
   "outputs": [],
   "source": [
    "# .append: add element to end of list\n",
    "# .insert: insert element at given index\n",
    "# .extend: extend one list with another list\n",
    "# .remove: searches for first instance of the element and removes it\n",
    "# .sort : sorts the elements\n",
    "# .reverse: reverses the elements order\n",
    "# .pop : pops the element located at given index"
   ]
  }
 ],
 "metadata": {
  "kernelspec": {
   "display_name": "Python 3",
   "language": "python",
   "name": "python3"
  },
  "language_info": {
   "codemirror_mode": {
    "name": "ipython",
    "version": 3
   },
   "file_extension": ".py",
   "mimetype": "text/x-python",
   "name": "python",
   "nbconvert_exporter": "python",
   "pygments_lexer": "ipython3",
   "version": "3.6.4"
  }
 },
 "nbformat": 4,
 "nbformat_minor": 2
}
