{
 "cells": [
  {
   "cell_type": "code",
   "execution_count": 3,
   "metadata": {},
   "outputs": [
    {
     "name": "stdout",
     "output_type": "stream",
     "text": [
      "[0 1 2 3 4 5 6 7 8 9]\n"
     ]
    }
   ],
   "source": [
    "import numpy as np\n",
    "\n",
    "arr = np.arange(10)\n",
    "print(arr)"
   ]
  },
  {
   "cell_type": "code",
   "execution_count": 11,
   "metadata": {},
   "outputs": [
    {
     "name": "stdout",
     "output_type": "stream",
     "text": [
      "[[False  True False]\n",
      " [ True False  True]\n",
      " [False  True False]]\n"
     ]
    }
   ],
   "source": [
    "arr1 = np.array([[1,2,3],[4,5,6],[7,8,9]])\n",
    "first_filter = (arr1%2 == 0)\n",
    "print(first_filter)"
   ]
  },
  {
   "cell_type": "code",
   "execution_count": 12,
   "metadata": {},
   "outputs": [
    {
     "data": {
      "text/plain": [
       "array([2, 4, 6, 8])"
      ]
     },
     "execution_count": 12,
     "metadata": {},
     "output_type": "execute_result"
    }
   ],
   "source": [
    "arr1[first_filter]"
   ]
  },
  {
   "cell_type": "code",
   "execution_count": 37,
   "metadata": {},
   "outputs": [
    {
     "name": "stdout",
     "output_type": "stream",
     "text": [
      "[[b'Date/Time' b'Temp (C)' b'Dew Point Temp (C)' b'Rel Hum (%)'\n",
      "  b'Wind Spd (km/h)' b'Visibility (km)' b'Stn Press (kPa)']\n",
      " [b'2012-01-01 00:00:00' b'-1.8' b'-3.9' b'86' b'4' b'8.0' b'101.24']\n",
      " [b'2012-01-01 01:00:00' b'-1.8' b'-3.7' b'87' b'4' b'8.0' b'101.24']\n",
      " [b'2012-01-01 02:00:00' b'-1.8' b'-3.4' b'89' b'7' b'4.0' b'101.26']\n",
      " [b'2012-01-01 03:00:00' b'-1.5' b'-3.2' b'88' b'6' b'4.0' b'101.27']\n",
      " [b'2012-01-01 04:00:00' b'-1.5' b'-3.3' b'88' b'7' b'4.8' b'101.23']\n",
      " [b'2012-01-01 05:00:00' b'-1.4' b'-3.3' b'87' b'9' b'6.4' b'101.27']\n",
      " [b'2012-01-01 06:00:00' b'-1.5' b'-3.1' b'89' b'7' b'6.4' b'101.29']\n",
      " [b'2012-01-01 07:00:00' b'-1.4' b'-3.6' b'85' b'7' b'8.0' b'101.26']\n",
      " [b'2012-01-01 08:00:00' b'-1.4' b'-3.6' b'85' b'9' b'8.0' b'101.23']]\n"
     ]
    }
   ],
   "source": [
    "weather = np.genfromtxt('weather_small_2012.csv', dtype='|S20', skip_header=0, delimiter=\",\")\n",
    "print(weather[:10])"
   ]
  },
  {
   "cell_type": "code",
   "execution_count": 40,
   "metadata": {},
   "outputs": [],
   "source": [
    "# temp > 32 degrees & visibility > 30 km"
   ]
  },
  {
   "cell_type": "code",
   "execution_count": null,
   "metadata": {},
   "outputs": [],
   "source": []
  },
  {
   "cell_type": "code",
   "execution_count": null,
   "metadata": {},
   "outputs": [],
   "source": []
  }
 ],
 "metadata": {
  "kernelspec": {
   "display_name": "Python 3",
   "language": "python",
   "name": "python3"
  },
  "language_info": {
   "codemirror_mode": {
    "name": "ipython",
    "version": 3
   },
   "file_extension": ".py",
   "mimetype": "text/x-python",
   "name": "python",
   "nbconvert_exporter": "python",
   "pygments_lexer": "ipython3",
   "version": "3.6.4"
  }
 },
 "nbformat": 4,
 "nbformat_minor": 2
}
